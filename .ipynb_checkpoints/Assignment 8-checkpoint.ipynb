{
 "cells": [
  {
   "cell_type": "code",
   "execution_count": 1,
   "id": "b039dc8b",
   "metadata": {},
   "outputs": [],
   "source": [
    "import pandas as pd"
   ]
  },
  {
   "cell_type": "code",
   "execution_count": 2,
   "id": "01f91ae1",
   "metadata": {},
   "outputs": [],
   "source": [
    "import seaborn as sns"
   ]
  },
  {
   "cell_type": "code",
   "execution_count": 3,
   "id": "a34496b1",
   "metadata": {},
   "outputs": [],
   "source": [
    "import scipy.stats as st"
   ]
  },
  {
   "cell_type": "code",
   "execution_count": 4,
   "id": "5ed2020a",
   "metadata": {},
   "outputs": [],
   "source": [
    "loanData = pd.read_csv(\"LoanData.csv\")"
   ]
  },
  {
   "cell_type": "code",
   "execution_count": 5,
   "id": "abc5dc04",
   "metadata": {},
   "outputs": [
    {
     "data": {
      "text/plain": [
       "5403.459283387622"
      ]
     },
     "execution_count": 5,
     "metadata": {},
     "output_type": "execute_result"
    }
   ],
   "source": [
    "loanData['ApplicantIncome'].mean()"
   ]
  },
  {
   "cell_type": "markdown",
   "id": "65cbc5b4",
   "metadata": {},
   "source": [
    "Confidence interval column ApplicantIncome"
   ]
  },
  {
   "cell_type": "code",
   "execution_count": 6,
   "id": "cafc6b83",
   "metadata": {},
   "outputs": [
    {
     "data": {
      "text/plain": [
       "0      5849\n",
       "1      4583\n",
       "2      3000\n",
       "3      2583\n",
       "4      6000\n",
       "       ... \n",
       "609    2900\n",
       "610    4106\n",
       "611    8072\n",
       "612    7583\n",
       "613    4583\n",
       "Name: ApplicantIncome, Length: 614, dtype: int64"
      ]
     },
     "execution_count": 6,
     "metadata": {},
     "output_type": "execute_result"
    }
   ],
   "source": [
    "ApplicationIncome = loanData['ApplicantIncome']\n",
    "ApplicationIncome"
   ]
  },
  {
   "cell_type": "code",
   "execution_count": 7,
   "id": "d96ec34c",
   "metadata": {},
   "outputs": [
    {
     "data": {
      "text/plain": [
       "(4997.321886214146, 5809.596680561099)"
      ]
     },
     "execution_count": 7,
     "metadata": {},
     "output_type": "execute_result"
    }
   ],
   "source": [
    "confidence = 0.90\n",
    "st.t.interval(confidence, len(ApplicationIncome)-1, loc=ApplicationIncome.mean(), scale=st.sem(ApplicationIncome))"
   ]
  },
  {
   "cell_type": "code",
   "execution_count": 8,
   "id": "0c6b31aa",
   "metadata": {},
   "outputs": [
    {
     "data": {
      "text/plain": [
       "(4919.292129904242, 5887.626436871003)"
      ]
     },
     "execution_count": 8,
     "metadata": {},
     "output_type": "execute_result"
    }
   ],
   "source": [
    "confidence = 0.95\n",
    "st.t.interval(confidence, len(ApplicationIncome)-1, loc=ApplicationIncome.mean(), scale=st.sem(ApplicationIncome))"
   ]
  },
  {
   "cell_type": "code",
   "execution_count": 9,
   "id": "58b54c7d",
   "metadata": {},
   "outputs": [
    {
     "data": {
      "text/plain": [
       "(4766.428935333236, 6040.489631442008)"
      ]
     },
     "execution_count": 9,
     "metadata": {},
     "output_type": "execute_result"
    }
   ],
   "source": [
    "confidence = 0.99\n",
    "st.t.interval(confidence, len(ApplicationIncome)-1, loc=ApplicationIncome.mean(), scale=st.sem(ApplicationIncome))"
   ]
  },
  {
   "cell_type": "markdown",
   "id": "8c017d65",
   "metadata": {},
   "source": [
    "Confidence interval column LoanAmount"
   ]
  },
  {
   "cell_type": "code",
   "execution_count": 10,
   "id": "df75ba9e",
   "metadata": {},
   "outputs": [
    {
     "data": {
      "text/plain": [
       "pandas.core.series.Series"
      ]
     },
     "execution_count": 10,
     "metadata": {},
     "output_type": "execute_result"
    }
   ],
   "source": [
    "LoanAmountFilter = loanData['LoanAmount'] > 0\n",
    "loanDataFiltered = loanData[LoanAmountFilter]\n",
    "LoanAmounts = loanDataFiltered['LoanAmount']\n",
    "type(LoanAmounts)\n"
   ]
  },
  {
   "cell_type": "code",
   "execution_count": 11,
   "id": "60e7262b",
   "metadata": {},
   "outputs": [
    {
     "data": {
      "text/plain": [
       "(140.61711266964963, 152.2072116546747)"
      ]
     },
     "execution_count": 11,
     "metadata": {},
     "output_type": "execute_result"
    }
   ],
   "source": [
    "confidence = 0.90\n",
    "st.t.interval(confidence, len(LoanAmounts)-1, loc=LoanAmounts.mean(), scale=st.sem(LoanAmounts))"
   ]
  },
  {
   "cell_type": "code",
   "execution_count": 12,
   "id": "580022a3",
   "metadata": {},
   "outputs": [
    {
     "data": {
      "text/plain": [
       "(139.5036105804535, 153.3207137438708)"
      ]
     },
     "execution_count": 12,
     "metadata": {},
     "output_type": "execute_result"
    }
   ],
   "source": [
    "confidence = 0.95\n",
    "st.t.interval(confidence, len(LoanAmounts)-1, loc=LoanAmounts.mean(), scale=st.sem(LoanAmounts))"
   ]
  },
  {
   "cell_type": "code",
   "execution_count": 13,
   "id": "2ef6bd70",
   "metadata": {},
   "outputs": [
    {
     "data": {
      "text/plain": [
       "(137.3220278356019, 155.50229648872244)"
      ]
     },
     "execution_count": 13,
     "metadata": {},
     "output_type": "execute_result"
    }
   ],
   "source": [
    "confidence = 0.99\n",
    "st.t.interval(confidence, len(LoanAmounts)-1, loc=LoanAmounts.mean(), scale=st.sem(LoanAmounts))"
   ]
  },
  {
   "cell_type": "markdown",
   "id": "99c1229d",
   "metadata": {},
   "source": [
    "With only 10% of the rows"
   ]
  },
  {
   "cell_type": "code",
   "execution_count": 14,
   "id": "9be0a0d6",
   "metadata": {},
   "outputs": [
    {
     "data": {
      "text/plain": [
       "228    158.0\n",
       "502    208.0\n",
       "431    105.0\n",
       "155    600.0\n",
       "351    308.0\n",
       "       ...  \n",
       "379    130.0\n",
       "107    120.0\n",
       "360     81.0\n",
       "471    113.0\n",
       "535    126.0\n",
       "Name: LoanAmount, Length: 61, dtype: float64"
      ]
     },
     "execution_count": 14,
     "metadata": {},
     "output_type": "execute_result"
    }
   ],
   "source": [
    "sample = LoanAmounts.sample(n=61)\n",
    "sample"
   ]
  },
  {
   "cell_type": "code",
   "execution_count": 15,
   "id": "0560ad60",
   "metadata": {},
   "outputs": [
    {
     "data": {
      "text/plain": [
       "(135.3475610210727, 189.24260291335355)"
      ]
     },
     "execution_count": 15,
     "metadata": {},
     "output_type": "execute_result"
    }
   ],
   "source": [
    "confidence = 0.95\n",
    "st.t.interval(confidence, len(sample)-1, loc=sample.mean(), scale=st.sem(sample))"
   ]
  },
  {
   "cell_type": "code",
   "execution_count": 16,
   "id": "a675d8bd",
   "metadata": {},
   "outputs": [
    {
     "data": {
      "text/plain": [
       "491    5333\n",
       "125    3692\n",
       "150    6277\n",
       "168    2237\n",
       "263    7200\n",
       "       ... \n",
       "23     3365\n",
       "458    4354\n",
       "273    2620\n",
       "354    2423\n",
       "555    5468\n",
       "Name: ApplicantIncome, Length: 61, dtype: int64"
      ]
     },
     "execution_count": 16,
     "metadata": {},
     "output_type": "execute_result"
    }
   ],
   "source": [
    "sample = ApplicationIncome.sample(n=61)\n",
    "sample"
   ]
  },
  {
   "cell_type": "code",
   "execution_count": 17,
   "id": "4a15c2c8",
   "metadata": {},
   "outputs": [
    {
     "data": {
      "text/plain": [
       "(3913.605799023915, 5628.525348517069)"
      ]
     },
     "execution_count": 17,
     "metadata": {},
     "output_type": "execute_result"
    }
   ],
   "source": [
    "confidence = 0.95\n",
    "st.t.interval(confidence, len(sample)-1, loc=sample.mean(), scale=st.sem(sample))"
   ]
  },
  {
   "cell_type": "markdown",
   "id": "c066ef3c",
   "metadata": {},
   "source": [
    "Conclusie: hoe minderdata hoe minder nauwkeurig je interval."
   ]
  }
 ],
 "metadata": {
  "kernelspec": {
   "display_name": "Python 3 (ipykernel)",
   "language": "python",
   "name": "python3"
  },
  "language_info": {
   "codemirror_mode": {
    "name": "ipython",
    "version": 3
   },
   "file_extension": ".py",
   "mimetype": "text/x-python",
   "name": "python",
   "nbconvert_exporter": "python",
   "pygments_lexer": "ipython3",
   "version": "3.9.7"
  }
 },
 "nbformat": 4,
 "nbformat_minor": 5
}
