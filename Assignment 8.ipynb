{
 "cells": [
  {
   "cell_type": "code",
   "execution_count": 1,
   "id": "b039dc8b",
   "metadata": {},
   "outputs": [],
   "source": [
    "import pandas as pd"
   ]
  },
  {
   "cell_type": "code",
   "execution_count": 2,
   "id": "01f91ae1",
   "metadata": {},
   "outputs": [],
   "source": [
    "import seaborn as sns"
   ]
  },
  {
   "cell_type": "code",
   "execution_count": 3,
   "id": "a34496b1",
   "metadata": {},
   "outputs": [],
   "source": [
    "import scipy.stats as st"
   ]
  },
  {
   "cell_type": "code",
   "execution_count": 4,
   "id": "5ed2020a",
   "metadata": {},
   "outputs": [],
   "source": [
    "loanData = pd.read_csv(\"LoanData.csv\")"
   ]
  },
  {
   "cell_type": "code",
   "execution_count": 5,
   "id": "abc5dc04",
   "metadata": {},
   "outputs": [
    {
     "data": {
      "text/plain": [
       "5403.459283387622"
      ]
     },
     "execution_count": 5,
     "metadata": {},
     "output_type": "execute_result"
    }
   ],
   "source": [
    "loanData['ApplicantIncome'].mean()"
   ]
  },
  {
   "cell_type": "markdown",
   "id": "65cbc5b4",
   "metadata": {},
   "source": [
    "# Confidence interval column ApplicantIncome"
   ]
  },
  {
   "cell_type": "code",
   "execution_count": 6,
   "id": "cafc6b83",
   "metadata": {},
   "outputs": [
    {
     "data": {
      "text/plain": [
       "0      5849\n",
       "1      4583\n",
       "2      3000\n",
       "3      2583\n",
       "4      6000\n",
       "       ... \n",
       "609    2900\n",
       "610    4106\n",
       "611    8072\n",
       "612    7583\n",
       "613    4583\n",
       "Name: ApplicantIncome, Length: 614, dtype: int64"
      ]
     },
     "execution_count": 6,
     "metadata": {},
     "output_type": "execute_result"
    }
   ],
   "source": [
    "ApplicationIncome = loanData['ApplicantIncome']\n",
    "ApplicationIncome"
   ]
  },
  {
   "cell_type": "code",
   "execution_count": 7,
   "id": "d96ec34c",
   "metadata": {},
   "outputs": [
    {
     "data": {
      "text/plain": [
       "(4997.321886214146, 5809.596680561099)"
      ]
     },
     "execution_count": 7,
     "metadata": {},
     "output_type": "execute_result"
    }
   ],
   "source": [
    "confidence = 0.90\n",
    "st.t.interval(confidence, len(ApplicationIncome)-1, loc=ApplicationIncome.mean(), scale=st.sem(ApplicationIncome))"
   ]
  },
  {
   "cell_type": "code",
   "execution_count": 8,
   "id": "0c6b31aa",
   "metadata": {},
   "outputs": [
    {
     "data": {
      "text/plain": [
       "(4919.292129904242, 5887.626436871003)"
      ]
     },
     "execution_count": 8,
     "metadata": {},
     "output_type": "execute_result"
    }
   ],
   "source": [
    "confidence = 0.95\n",
    "st.t.interval(confidence, len(ApplicationIncome)-1, loc=ApplicationIncome.mean(), scale=st.sem(ApplicationIncome))"
   ]
  },
  {
   "cell_type": "code",
   "execution_count": 9,
   "id": "58b54c7d",
   "metadata": {},
   "outputs": [
    {
     "data": {
      "text/plain": [
       "(4766.428935333236, 6040.489631442008)"
      ]
     },
     "execution_count": 9,
     "metadata": {},
     "output_type": "execute_result"
    }
   ],
   "source": [
    "confidence = 0.99\n",
    "st.t.interval(confidence, len(ApplicationIncome)-1, loc=ApplicationIncome.mean(), scale=st.sem(ApplicationIncome))"
   ]
  },
  {
   "cell_type": "markdown",
   "id": "8c017d65",
   "metadata": {},
   "source": [
    "# Confidence interval column LoanAmount"
   ]
  },
  {
   "cell_type": "code",
   "execution_count": 10,
   "id": "df75ba9e",
   "metadata": {},
   "outputs": [
    {
     "data": {
      "text/plain": [
       "pandas.core.series.Series"
      ]
     },
     "execution_count": 10,
     "metadata": {},
     "output_type": "execute_result"
    }
   ],
   "source": [
    "LoanAmountFilter = loanData['LoanAmount'] > 0\n",
    "loanDataFiltered = loanData[LoanAmountFilter]\n",
    "LoanAmounts = loanDataFiltered['LoanAmount']\n",
    "type(LoanAmounts)\n"
   ]
  },
  {
   "cell_type": "code",
   "execution_count": 11,
   "id": "60e7262b",
   "metadata": {},
   "outputs": [
    {
     "data": {
      "text/plain": [
       "(140.61711266964963, 152.2072116546747)"
      ]
     },
     "execution_count": 11,
     "metadata": {},
     "output_type": "execute_result"
    }
   ],
   "source": [
    "confidence = 0.90\n",
    "st.t.interval(confidence, len(LoanAmounts)-1, loc=LoanAmounts.mean(), scale=st.sem(LoanAmounts))"
   ]
  },
  {
   "cell_type": "code",
   "execution_count": 12,
   "id": "580022a3",
   "metadata": {},
   "outputs": [
    {
     "data": {
      "text/plain": [
       "(139.5036105804535, 153.3207137438708)"
      ]
     },
     "execution_count": 12,
     "metadata": {},
     "output_type": "execute_result"
    }
   ],
   "source": [
    "confidence = 0.95\n",
    "st.t.interval(confidence, len(LoanAmounts)-1, loc=LoanAmounts.mean(), scale=st.sem(LoanAmounts))"
   ]
  },
  {
   "cell_type": "code",
   "execution_count": 13,
   "id": "2ef6bd70",
   "metadata": {},
   "outputs": [
    {
     "data": {
      "text/plain": [
       "(137.3220278356019, 155.50229648872244)"
      ]
     },
     "execution_count": 13,
     "metadata": {},
     "output_type": "execute_result"
    }
   ],
   "source": [
    "confidence = 0.99\n",
    "st.t.interval(confidence, len(LoanAmounts)-1, loc=LoanAmounts.mean(), scale=st.sem(LoanAmounts))"
   ]
  },
  {
   "cell_type": "markdown",
   "id": "99c1229d",
   "metadata": {},
   "source": [
    "# With only 10% of the rows"
   ]
  },
  {
   "cell_type": "code",
   "execution_count": 14,
   "id": "9be0a0d6",
   "metadata": {},
   "outputs": [
    {
     "data": {
      "text/plain": [
       "478     86.0\n",
       "370     55.0\n",
       "1      128.0\n",
       "227    210.0\n",
       "143    122.0\n",
       "       ...  \n",
       "490     96.0\n",
       "441    180.0\n",
       "48     120.0\n",
       "428     87.0\n",
       "277     80.0\n",
       "Name: LoanAmount, Length: 61, dtype: float64"
      ]
     },
     "execution_count": 14,
     "metadata": {},
     "output_type": "execute_result"
    }
   ],
   "source": [
    "sample = LoanAmounts.sample(n=61)\n",
    "sample"
   ]
  },
  {
   "cell_type": "code",
   "execution_count": 15,
   "id": "0560ad60",
   "metadata": {},
   "outputs": [
    {
     "data": {
      "text/plain": [
       "(123.07214574937441, 174.56719851292067)"
      ]
     },
     "execution_count": 15,
     "metadata": {},
     "output_type": "execute_result"
    }
   ],
   "source": [
    "confidence = 0.95\n",
    "st.t.interval(confidence, len(sample)-1, loc=sample.mean(), scale=st.sem(sample))"
   ]
  },
  {
   "cell_type": "code",
   "execution_count": 16,
   "id": "a675d8bd",
   "metadata": {},
   "outputs": [
    {
     "data": {
      "text/plain": [
       "415     2995\n",
       "387     3010\n",
       "113     7451\n",
       "530     1025\n",
       "522     5677\n",
       "       ...  \n",
       "542     3652\n",
       "396     3180\n",
       "139     4200\n",
       "367     5124\n",
       "119    10408\n",
       "Name: ApplicantIncome, Length: 61, dtype: int64"
      ]
     },
     "execution_count": 16,
     "metadata": {},
     "output_type": "execute_result"
    }
   ],
   "source": [
    "sample = ApplicationIncome.sample(n=61)\n",
    "sample"
   ]
  },
  {
   "cell_type": "code",
   "execution_count": 17,
   "id": "4a15c2c8",
   "metadata": {},
   "outputs": [
    {
     "data": {
      "text/plain": [
       "(4245.26735962519, 7721.519525620712)"
      ]
     },
     "execution_count": 17,
     "metadata": {},
     "output_type": "execute_result"
    }
   ],
   "source": [
    "confidence = 0.95\n",
    "st.t.interval(confidence, len(sample)-1, loc=sample.mean(), scale=st.sem(sample))"
   ]
  },
  {
   "cell_type": "markdown",
   "id": "c066ef3c",
   "metadata": {},
   "source": [
    "# Conclusie: hoe minderdata hoe minder nauwkeurig je interval."
   ]
  }
 ],
 "metadata": {
  "kernelspec": {
   "display_name": "Python 3 (ipykernel)",
   "language": "python",
   "name": "python3"
  },
  "language_info": {
   "codemirror_mode": {
    "name": "ipython",
    "version": 3
   },
   "file_extension": ".py",
   "mimetype": "text/x-python",
   "name": "python",
   "nbconvert_exporter": "python",
   "pygments_lexer": "ipython3",
   "version": "3.9.7"
  }
 },
 "nbformat": 4,
 "nbformat_minor": 5
}
